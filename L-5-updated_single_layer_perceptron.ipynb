{
 "cells": [
  {
   "cell_type": "code",
   "execution_count": 1,
   "metadata": {},
   "outputs": [],
   "source": [
    "import tensorflow as tf\n",
    "import os\n",
    "tf.compat.v1.disable_eager_execution()\n",
    "w=tf.Variable([.2])  # initial weight, it can be anything\n",
    "b=tf.Variable([-.2]) # initial bias, it can be anything\n",
    "x=tf.compat.v1.placeholder(tf.float32)  # input "
   ]
  },
  {
   "cell_type": "code",
   "execution_count": 2,
   "metadata": {},
   "outputs": [],
   "source": [
    "linear_model=w*x + b  \n",
    "\n",
    "init =tf.compat.v1.global_variables_initializer()  # initalizing variables\n"
   ]
  },
  {
   "cell_type": "code",
   "execution_count": 3,
   "metadata": {},
   "outputs": [
    {
     "data": {
      "text/plain": [
       "array([-0.2], dtype=float32)"
      ]
     },
     "execution_count": 3,
     "metadata": {},
     "output_type": "execute_result"
    }
   ],
   "source": [
    "s= tf.compat.v1.Session() # setting up session for computation\n",
    "\n",
    "s.run(init) \n",
    "s.run(w)\n",
    "s.run(b)\n"
   ]
  },
  {
   "cell_type": "code",
   "execution_count": 4,
   "metadata": {},
   "outputs": [
    {
     "name": "stdout",
     "output_type": "stream",
     "text": [
      "predicted output is\n",
      "[0.         0.2        0.40000004 0.6       ]\n"
     ]
    }
   ],
   "source": [
    "\n",
    "print(\"predicted output is\")\n",
    "print(s.run(linear_model,{x:[1,2,3,4]})) # applying this formula w*x + b with initial value of weight and bias\n"
   ]
  },
  {
   "cell_type": "code",
   "execution_count": 5,
   "metadata": {},
   "outputs": [],
   "source": [
    "y=tf.compat.v1.placeholder(tf.float32)  # y is for holding desired output\n",
    "squared_deltas=tf.square(linear_model -y)\n",
    "loss = tf.reduce_sum(squared_deltas) # reduce_sum is used to sum all the squared errors and give us rmse\n"
   ]
  },
  {
   "cell_type": "code",
   "execution_count": 6,
   "metadata": {
    "scrolled": true
   },
   "outputs": [
    {
     "name": "stdout",
     "output_type": "stream",
     "text": [
      "loss or Error is \n",
      "20.16\n"
     ]
    }
   ],
   "source": [
    "print(\"loss or Error is \")\n",
    "print(s.run(loss, {x:[1,2,3,4], y:[0,-1,-2,-3]}))   #given input and output values here because we have used placeholder\n"
   ]
  },
  {
   "cell_type": "markdown",
   "metadata": {},
   "source": [
    "# Task:\n",
    "## Try the above code, also try to change the values of x and y. "
   ]
  },
  {
   "cell_type": "code",
   "execution_count": null,
   "metadata": {},
   "outputs": [],
   "source": []
  }
 ],
 "metadata": {
  "kernelspec": {
   "display_name": "Python 3",
   "language": "python",
   "name": "python3"
  },
  "language_info": {
   "codemirror_mode": {
    "name": "ipython",
    "version": 3
   },
   "file_extension": ".py",
   "mimetype": "text/x-python",
   "name": "python",
   "nbconvert_exporter": "python",
   "pygments_lexer": "ipython3",
   "version": "3.7.6"
  }
 },
 "nbformat": 4,
 "nbformat_minor": 2
}
